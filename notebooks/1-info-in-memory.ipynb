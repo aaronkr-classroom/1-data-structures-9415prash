{
 "cells": [
  {
   "cell_type": "markdown",
   "metadata": {},
   "source": [
    "# Array Value Swap\n",
    "\n",
    "This is a simple problem where we are given an array of integers and we have to swap the values of the array at the given indices.\n",
    "\n",
    "**Time Complexity:** The problem is simple and can be solved in O(1) time complexity.\n",
    "\n",
    "![Array Swap](../img/1.1-array-swap.jpg)"
   ]
  },
  {
   "cell_type": "code",
   "execution_count": null,
   "metadata": {},
   "outputs": [],
   "source": [
    "# Function to swap two values in an array\n",
    "\n",
    "def swap(arr, index1, index2):\n",
    "    temp = arr[index1]\n",
    "    arr[index1] = arr[index2]\n",
    "    arr[index2] = temp\n",
    "    print (arr)    \n",
    "array = [10,20,30,40,50]\n",
    "print(\"Before swap\", array)\n",
    "swap(array,2,3)\n",
    "# Example usage\n",
    "array = [10, 20, 30, 40, 50]\n",
    "\n",
    "print(\"Before swap:\", array)\n",
    "\n",
    "# Swap values at index 1 and index 3\n",
    "swap(array, 1, 3)\n",
    "\n",
    "print(\"After swap:\", array)"
   ]
  },
  {
   "cell_type": "code",
   "execution_count": null,
   "metadata": {},
   "outputs": [],
   "source": []
  },
  {
   "cell_type": "markdown",
   "metadata": {},
   "source": [
    "# Insertion Sort\n",
    "\n",
    "This is a simple sorting algorithm that builds the final sorted array one item at a time. It is much less efficient on large lists than more advanced algorithms such as quicksort, heapsort, or merge sort.\n",
    "\n",
    "**Time Complexity:** The time complexity of the insertion sort is O(n^2) in the worst case.\n",
    "\n",
    "![Insertion Sort](../img/1.2-insertion-sort.jpg)"
   ]
  },
  {
   "cell_type": "code",
   "execution_count": null,
   "metadata": {},
   "outputs": [],
   "source": [
    "# Book solution\n",
    "def inertion_sort(arr):\n",
    "    n=len(arr)\n",
    "    i =1\n",
    "    while i<n:\n",
    "        current =arr[i]\n",
    "        j =i-1\n",
    "        while j >= 0 and arr[j] > current:\n",
    "            arr[j + 1] = arr[j]\n",
    "            j = j -1\n",
    "    arr[j + 1]= current\n",
    "    i= i+1\n",
    "    print(\"After array = \", arr)\n",
    "\n",
    "\n",
    "array = [12,11,13,5,6]\n",
    "print(\"Before : array = \",array)\n",
    "inertion_sort(array)\n",
    "\n",
    "\n",
    "\n",
    "# Example usage\n",
    "array = [12, 11, 13, 5, 6]\n",
    "print(\"Original array:\", array)\n",
    "insertion_sort(array)\n",
    "print(\"Sorted array:\", array)"
   ]
  },
  {
   "cell_type": "markdown",
   "metadata": {},
   "source": [
    "# String Equality\n",
    "\n",
    "This is a simple problem where we are given two strings and we have to check if the strings are equal or not.\n",
    "\n",
    "**Time Complexity:** The time complexity of the problem is O(n) where n is the length of the string.\n",
    "\n",
    "![String Equality](../img/1.3-string-equality.jpg)"
   ]
  },
  {
   "cell_type": "code",
   "execution_count": null,
   "metadata": {},
   "outputs": [],
   "source": [
    "# Function to check if two strings are exactly equal\n",
    "def compare_strings_exactly(str1,str2):\n",
    "    if len(str1) !=len(str2):\n",
    "        return False\n",
    "    N =len(str1)\n",
    "    i = 0\n",
    "    while i<N and str1[i] == str2[i]:\n",
    "        i +=1\n",
    "    return i == N\n",
    "    \n",
    "\n",
    "# Example usage\n",
    "string1 = \"hello\"\n",
    "string2 = \"hello\"\n",
    "\n",
    "compare_strings_exactly(string1,string2)\n",
    "if compare_strings_exactly(string1, string2):\n",
    "    print(f\"{string1} and {string2} are exactly equal.\")\n",
    "else:\n",
    "    print(f\"{string1} and {string2} are not equal.\")"
   ]
  },
  {
   "cell_type": "code",
   "execution_count": null,
   "metadata": {},
   "outputs": [],
   "source": [
    "compare_strings_exactly"
   ]
  }
 ],
 "metadata": {
  "kernelspec": {
   "display_name": "Python 3",
   "language": "python",
   "name": "python3"
  },
  "language_info": {
   "codemirror_mode": {
    "name": "ipython",
    "version": 3
   },
   "file_extension": ".py",
   "mimetype": "text/x-python",
   "name": "python",
   "nbconvert_exporter": "python",
   "pygments_lexer": "ipython3",
   "version": "3.12.1"
  }
 },
 "nbformat": 4,
 "nbformat_minor": 2
}
