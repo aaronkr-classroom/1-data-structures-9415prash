{
 "cells": [
  {
   "cell_type": "code",
   "execution_count": 1,
   "metadata": {},
   "outputs": [
    {
     "name": "stdout",
     "output_type": "stream",
     "text": [
      "Integer = 3\n"
     ]
    }
   ],
   "source": [
    "num=3\n",
    "print(f\"Integer = {num}\")"
   ]
  },
  {
   "cell_type": "code",
   "execution_count": 3,
   "metadata": {},
   "outputs": [
    {
     "name": "stdout",
     "output_type": "stream",
     "text": [
      "decimal = 3.38247\n"
     ]
    }
   ],
   "source": [
    "#float\n",
    "decimal =3.38247\n",
    "print(f\"decimal = {decimal}\")"
   ]
  },
  {
   "cell_type": "code",
   "execution_count": 10,
   "metadata": {},
   "outputs": [
    {
     "name": "stdout",
     "output_type": "stream",
     "text": [
      "[10, 'school', 3.44]\n",
      "[10, 'school', 3.44, [343, 'sdifus', 3.394]]\n"
     ]
    }
   ],
   "source": [
    "lst=[1,2,3,34,4,5,6,7,8,9]\n",
    "mix_lst=[10,\"school\",3.44]\n",
    "print(mix_lst[:5])\n",
    "mix_lst.append([343,\"sdifus\",3.394])\n",
    "print(mix_lst)"
   ]
  },
  {
   "cell_type": "code",
   "execution_count": 12,
   "metadata": {},
   "outputs": [
    {
     "name": "stdout",
     "output_type": "stream",
     "text": [
      "Hello i am Prashant. and the sudent id is 3242384\n"
     ]
    }
   ],
   "source": [
    "#object\n",
    "class Student:\n",
    "    def __init__(self,name,id):\n",
    "        self.name=name\n",
    "        self.id=id\n",
    "\n",
    "    def great(self):\n",
    "        print(f\"Hello i am {self.name}. and the sudent id is {self.id}\")\n",
    "e1=Student(\"Prashant\",3242384)\n",
    "e1.great()\n",
    "\n"
   ]
  },
  {
   "cell_type": "code",
   "execution_count": null,
   "metadata": {},
   "outputs": [],
   "source": [
    "mix_lst"
   ]
  },
  {
   "cell_type": "code",
   "execution_count": 5,
   "metadata": {},
   "outputs": [
    {
     "name": "stdout",
     "output_type": "stream",
     "text": [
      " complex = (2+3j)\n"
     ]
    }
   ],
   "source": [
    "complex= 2 + 3j\n",
    "print(f\" complex = {complex}\")"
   ]
  }
 ],
 "metadata": {
  "kernelspec": {
   "display_name": "Python 3",
   "language": "python",
   "name": "python3"
  },
  "language_info": {
   "codemirror_mode": {
    "name": "ipython",
    "version": 3
   },
   "file_extension": ".py",
   "mimetype": "text/x-python",
   "name": "python",
   "nbconvert_exporter": "python",
   "pygments_lexer": "ipython3",
   "version": "3.12.1"
  }
 },
 "nbformat": 4,
 "nbformat_minor": 2
}
