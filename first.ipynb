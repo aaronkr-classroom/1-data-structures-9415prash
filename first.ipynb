{
 "cells": [
  {
   "cell_type": "code",
   "execution_count": 5,
   "metadata": {},
   "outputs": [
    {
     "name": "stdout",
     "output_type": "stream",
     "text": [
      "Integer = 3\n",
      "1\n"
     ]
    }
   ],
   "source": [
    "num=3\n",
    "print(f\"Integer = {num}\")\n",
    "y=3/2\n",
    "print(int(y))"
   ]
  },
  {
   "cell_type": "code",
   "execution_count": 6,
   "metadata": {},
   "outputs": [
    {
     "ename": "TypeError",
     "evalue": "unsupported operand type(s) for -: 'list' and 'int'",
     "output_type": "error",
     "traceback": [
      "\u001b[0;31m---------------------------------------------------------------------------\u001b[0m",
      "\u001b[0;31mTypeError\u001b[0m                                 Traceback (most recent call last)",
      "Cell \u001b[0;32mIn[6], line 45\u001b[0m\n\u001b[1;32m     42\u001b[0m                 Search(rt,a)\n\u001b[1;32m     44\u001b[0m arr\u001b[38;5;241m=\u001b[39m[\u001b[38;5;241m1\u001b[39m,\u001b[38;5;241m2\u001b[39m,\u001b[38;5;241m3\u001b[39m,\u001b[38;5;241m4\u001b[39m,\u001b[38;5;241m5\u001b[39m,\u001b[38;5;241m6\u001b[39m,\u001b[38;5;241m7\u001b[39m,\u001b[38;5;241m8\u001b[39m,\u001b[38;5;241m9\u001b[39m,\u001b[38;5;241m10\u001b[39m,\u001b[38;5;241m11\u001b[39m,\u001b[38;5;241m12\u001b[39m,\u001b[38;5;241m13\u001b[39m,\u001b[38;5;241m14\u001b[39m,\u001b[38;5;241m15\u001b[39m,\u001b[38;5;241m16\u001b[39m,\u001b[38;5;241m17\u001b[39m,\u001b[38;5;241m18\u001b[39m,\u001b[38;5;241m19\u001b[39m,\u001b[38;5;241m20\u001b[39m]  \n\u001b[0;32m---> 45\u001b[0m \u001b[43mBinary\u001b[49m\u001b[43m(\u001b[49m\u001b[43marr\u001b[49m\u001b[43m)\u001b[49m\n",
      "Cell \u001b[0;32mIn[6], line 13\u001b[0m, in \u001b[0;36mBinary\u001b[0;34m(b)\u001b[0m\n\u001b[1;32m     11\u001b[0m a\u001b[38;5;241m=\u001b[39m\u001b[38;5;28mint\u001b[39m(\u001b[38;5;28minput\u001b[39m(\u001b[38;5;124m\"\u001b[39m\u001b[38;5;124mEnter the number that you want \u001b[39m\u001b[38;5;124m\"\u001b[39m))\n\u001b[1;32m     12\u001b[0m lt\u001b[38;5;241m=\u001b[39m\u001b[38;5;241m0\u001b[39m\n\u001b[0;32m---> 13\u001b[0m rt\u001b[38;5;241m=\u001b[39m\u001b[43mb\u001b[49m\u001b[38;5;241;43m-\u001b[39;49m\u001b[38;5;241;43m1\u001b[39;49m\n\u001b[1;32m     15\u001b[0m \u001b[38;5;28;01mwhile\u001b[39;00m \u001b[38;5;28;01mTrue\u001b[39;00m:\n\u001b[1;32m     16\u001b[0m     mid\u001b[38;5;241m=\u001b[39m\u001b[38;5;28mint\u001b[39m((lt\u001b[38;5;241m+\u001b[39mrt)\u001b[38;5;241m/\u001b[39m\u001b[38;5;241m2\u001b[39m)\n",
      "\u001b[0;31mTypeError\u001b[0m: unsupported operand type(s) for -: 'list' and 'int'"
     ]
    }
   ],
   "source": [
    "#i think it is long code and not very effictive code.\n",
    "def Search(b,a):\n",
    "    for x in range(0,len(b)):\n",
    "            if b[x]==a:\n",
    "                print(\"Number is found\")\n",
    "                print(f\"This number is at {x} index of your array \")\n",
    "                break\n",
    "            elif x==(len(b)-1) and b[x]!=a:\n",
    "                print(\"Sorry, number not found\")\n",
    "\n",
    "def Binary(b):\n",
    "    a=int(input(\"Enter the number that you want \"))\n",
    "    lt=0\n",
    "    rt=len(b)-1\n",
    "    \n",
    "    while True:\n",
    "        mid=int((lt+rt)/2)\n",
    "\n",
    "        if b[mid]<a:\n",
    "            lt=mid\n",
    "            mid=int((lt+rt)/2)\n",
    "            if b[mid]<a:\n",
    "                lt=mid\n",
    "                mid=int((lt+rt)/2)\n",
    "                if b[mid]<a:\n",
    "                    Search(rt,a)\n",
    "                    break\n",
    "            else:\n",
    "                Search(rt,a)\n",
    "                break\n",
    "        elif b[mid]>a:\n",
    "            rt=mid\n",
    "            mid=int((lt+rt)/2)\n",
    "            if b[mid]>a:\n",
    "                rt=mid\n",
    "                mid=int((lt+rt)/2)\n",
    "                if b[mid]>a:\n",
    "                    rt=mid\n",
    "                    mid=int((lt+rt)/2)\n",
    "                    if b[mid]>a:    \n",
    "                        Search(rt,a)\n",
    "                        break\n",
    "                else:\n",
    "                    Search(rt,a)\n",
    "                    break\n",
    "            else:\n",
    "                Search(rt,a)\n",
    "                break\n",
    "\n",
    "arr=[1,2,3,4,5,6,7,8,9,10,11,12,13,14,15,16,17,18,19,20]  \n",
    "Binary(arr)\n",
    "             \n",
    "\n",
    "\n",
    "\n"
   ]
  },
  {
   "cell_type": "code",
   "execution_count": 2,
   "metadata": {},
   "outputs": [
    {
     "name": "stdout",
     "output_type": "stream",
     "text": [
      "Number is found\n",
      "This number is at index 4 of your array\n"
     ]
    }
   ],
   "source": [
    "def Binary(b):\n",
    "    a = int(input(\"Enter the number that you want \"))\n",
    "    lt=0\n",
    "    rt=len(b) - 1\n",
    "\n",
    "    while lt <= rt:\n",
    "        mid = (lt + rt) // 2  # Use integer division here\n",
    "        if b[mid] == a:\n",
    "            print(\"Number is found\")\n",
    "            print(f\"This number is at index {mid} of your array\")\n",
    "            return\n",
    "        elif b[mid] < a:\n",
    "            lt = mid + 1\n",
    "        else:\n",
    "            rt = mid - 1\n",
    "    print(\"Sorry, number not found\")\n",
    "\n",
    "arr=[1, 2, 3, 4, 5, 6, 7, 8, 9, 10, 11, 12, 13, 14, 15, 16, 17, 18, 19, 20]\n",
    "Binary(arr)\n"
   ]
  },
  {
   "cell_type": "code",
   "execution_count": null,
   "metadata": {},
   "outputs": [],
   "source": [
    "#This is linear search \n",
    "class linear_search:\n",
    "    def search(self,b):     #here a is the number you want to search\n",
    "        a=int(input(\"Enter num you want to search : \"))\n",
    "        self.a=a\n",
    "        self.b=b              #b is the dictonary\n",
    "        for x in range(0,len(b)):\n",
    "            if b[x]==a:\n",
    "                print(\"Number is found\")\n",
    "                print(f\"This number is at {x} index of your array \")\n",
    "                break\n",
    "            elif x==(len(b)-1) and b[x]!=a:\n",
    "                print(\"Sorry, number not found\")\n",
    "\n",
    "arr=[1,2,3,4,5,6,7,8,9,10,11,12,13,14,15,16,17,18,19,20]    \n",
    "e1=linear_search()\n",
    "e2=e1.search(arr)\n"
   ]
  },
  {
   "cell_type": "code",
   "execution_count": 3,
   "metadata": {},
   "outputs": [
    {
     "name": "stdout",
     "output_type": "stream",
     "text": [
      "decimal = 3.38247\n"
     ]
    }
   ],
   "source": [
    "#float\n",
    "decimal =3.38247\n",
    "print(f\"decimal = {decimal}\")"
   ]
  },
  {
   "cell_type": "code",
   "execution_count": 10,
   "metadata": {},
   "outputs": [
    {
     "name": "stdout",
     "output_type": "stream",
     "text": [
      "[10, 'school', 3.44]\n",
      "[10, 'school', 3.44, [343, 'sdifus', 3.394]]\n"
     ]
    }
   ],
   "source": [
    "lst=[1,2,3,34,4,5,6,7,8,9]\n",
    "mix_lst=[10,\"school\",3.44]\n",
    "print(mix_lst[:5])\n",
    "mix_lst.append([343,\"sdifus\",3.394])\n",
    "print(mix_lst)"
   ]
  },
  {
   "cell_type": "code",
   "execution_count": 12,
   "metadata": {},
   "outputs": [
    {
     "name": "stdout",
     "output_type": "stream",
     "text": [
      "Hello i am Prashant. and the sudent id is 3242384\n"
     ]
    }
   ],
   "source": [
    "#object\n",
    "class Student:\n",
    "    def __init__(self,name,id):\n",
    "        self.name=name\n",
    "        self.id=id\n",
    "\n",
    "    def great(self):\n",
    "        print(f\"Hello i am {self.name}. and the sudent id is {self.id}\")\n",
    "    \n",
    "e1=Student(\"Prashant\",3242384)\n",
    "e1.great()\n",
    "\n"
   ]
  },
  {
   "cell_type": "code",
   "execution_count": 5,
   "metadata": {},
   "outputs": [
    {
     "name": "stdout",
     "output_type": "stream",
     "text": [
      "I am a apple\n",
      "I am a banana\n",
      "I am a ORANGE\n",
      "I am a grape\n",
      "I am Thanos.\n"
     ]
    }
   ],
   "source": [
    "class Food:\n",
    "    def __init__(self, name='apple', color='red', size=0, price=0):\n",
    "        self.name = name\n",
    "        self.color = color\n",
    "        self.size = size\n",
    "        self.price = price\n",
    "        self.quantity = 1\n",
    "\n",
    "    def print_info(self):\n",
    "        if not self.name:\n",
    "            print(\"I am Thanos.\")\n",
    "        else:\n",
    "            print(f\"I am a {self.name}\")\n",
    "e1 = Food()\n",
    "e2 = Food('banana')\n",
    "e3 = Food('ORANGE', 'orange')\n",
    "e4 = Food('grape', size=3)\n",
    "e5 = Food(name='', color='purple')  \n",
    "\n",
    "\n",
    "e1.print_info()  \n",
    "e2.print_info()  \n",
    "e3.print_info()  \n",
    "e4.print_info()  \n",
    "e5.print_info()  \n"
   ]
  },
  {
   "cell_type": "code",
   "execution_count": 4,
   "metadata": {},
   "outputs": [
    {
     "ename": "TypeError",
     "evalue": "Food.print_info() missing 1 required positional argument: 'self'",
     "output_type": "error",
     "traceback": [
      "\u001b[0;31m---------------------------------------------------------------------------\u001b[0m",
      "\u001b[0;31mTypeError\u001b[0m                                 Traceback (most recent call last)",
      "Cell \u001b[0;32mIn[4], line 1\u001b[0m\n\u001b[0;32m----> 1\u001b[0m \u001b[43me1\u001b[49m\u001b[38;5;241;43m.\u001b[39;49m\u001b[43mprint_info\u001b[49m\u001b[43m(\u001b[49m\u001b[43m)\u001b[49m\n",
      "\u001b[0;31mTypeError\u001b[0m: Food.print_info() missing 1 required positional argument: 'self'"
     ]
    }
   ],
   "source": [
    "e1.print_info()"
   ]
  },
  {
   "cell_type": "code",
   "execution_count": null,
   "metadata": {},
   "outputs": [],
   "source": [
    "mix_lst"
   ]
  },
  {
   "cell_type": "code",
   "execution_count": 5,
   "metadata": {},
   "outputs": [
    {
     "name": "stdout",
     "output_type": "stream",
     "text": [
      " complex = (2+3j)\n"
     ]
    }
   ],
   "source": [
    "complex= 2 + 3j\n",
    "print(f\" complex = {complex}\")"
   ]
  }
 ],
 "metadata": {
  "kernelspec": {
   "display_name": "Python 3",
   "language": "python",
   "name": "python3"
  },
  "language_info": {
   "codemirror_mode": {
    "name": "ipython",
    "version": 3
   },
   "file_extension": ".py",
   "mimetype": "text/x-python",
   "name": "python",
   "nbconvert_exporter": "python",
   "pygments_lexer": "ipython3",
   "version": "3.12.1"
  }
 },
 "nbformat": 4,
 "nbformat_minor": 2
}
